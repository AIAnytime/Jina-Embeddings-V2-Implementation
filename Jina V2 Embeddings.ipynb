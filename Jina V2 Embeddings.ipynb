{
 "cells": [
  {
   "cell_type": "code",
   "execution_count": 3,
   "id": "80eb6fba",
   "metadata": {
    "ExecuteTime": {
     "end_time": "2023-10-30T12:22:20.546363Z",
     "start_time": "2023-10-30T12:22:20.541655Z"
    }
   },
   "outputs": [],
   "source": [
    "from transformers import AutoModel \n",
    "from numpy.linalg import norm"
   ]
  },
  {
   "cell_type": "markdown",
   "id": "8e8c4d7f",
   "metadata": {},
   "source": [
    "## Mathematical Formula"
   ]
  },
  {
   "cell_type": "code",
   "execution_count": 5,
   "id": "d2e5b029",
   "metadata": {
    "ExecuteTime": {
     "end_time": "2023-10-30T12:23:21.704602Z",
     "start_time": "2023-10-30T12:23:21.699205Z"
    }
   },
   "outputs": [],
   "source": [
    "cos_sim = lambda a,b: (a @ b.T) / (norm(a)*norm(b))"
   ]
  },
  {
   "cell_type": "code",
   "execution_count": 6,
   "id": "93800fa3",
   "metadata": {
    "ExecuteTime": {
     "end_time": "2023-10-30T12:23:25.016348Z",
     "start_time": "2023-10-30T12:23:25.005782Z"
    }
   },
   "outputs": [
    {
     "data": {
      "text/plain": [
       "<function __main__.<lambda>(a, b)>"
      ]
     },
     "execution_count": 6,
     "metadata": {},
     "output_type": "execute_result"
    }
   ],
   "source": [
    "cos_sim"
   ]
  },
  {
   "cell_type": "code",
   "execution_count": 7,
   "id": "d8262e38",
   "metadata": {
    "ExecuteTime": {
     "end_time": "2023-10-30T12:25:09.557983Z",
     "start_time": "2023-10-30T12:24:20.638049Z"
    }
   },
   "outputs": [
    {
     "data": {
      "application/vnd.jupyter.widget-view+json": {
       "model_id": "4c43271dba8a4503bc5927f7d92255db",
       "version_major": 2,
       "version_minor": 0
      },
      "text/plain": [
       "Downloading (…)lve/main/config.json:   0%|          | 0.00/1.18k [00:00<?, ?B/s]"
      ]
     },
     "metadata": {},
     "output_type": "display_data"
    },
    {
     "name": "stderr",
     "output_type": "stream",
     "text": [
      "C:\\Users\\aiany\\anaconda3\\Lib\\site-packages\\huggingface_hub\\file_download.py:137: UserWarning: `huggingface_hub` cache-system uses symlinks by default to efficiently store duplicated files but your machine does not support them in C:\\Users\\aiany\\.cache\\huggingface\\hub. Caching files will still work but in a degraded version that might require more space on your disk. This warning can be disabled by setting the `HF_HUB_DISABLE_SYMLINKS_WARNING` environment variable. For more details, see https://huggingface.co/docs/huggingface_hub/how-to-cache#limitations.\n",
      "To support symlinks on Windows, you either need to activate Developer Mode or to run Python as an administrator. In order to see activate developer mode, see this article: https://docs.microsoft.com/en-us/windows/apps/get-started/enable-your-device-for-development\n",
      "  warnings.warn(message)\n"
     ]
    },
    {
     "data": {
      "application/vnd.jupyter.widget-view+json": {
       "model_id": "b75779606a86411d83696aa03c7d971a",
       "version_major": 2,
       "version_minor": 0
      },
      "text/plain": [
       "Downloading (…)onfiguration_bert.py:   0%|          | 0.00/8.24k [00:00<?, ?B/s]"
      ]
     },
     "metadata": {},
     "output_type": "display_data"
    },
    {
     "name": "stderr",
     "output_type": "stream",
     "text": [
      "A new version of the following files was downloaded from https://huggingface.co/jinaai/jina-bert-implementation:\n",
      "- configuration_bert.py\n",
      ". Make sure to double-check they do not contain any added malicious code. To avoid downloading new versions of the code file, you can pin a revision.\n"
     ]
    },
    {
     "data": {
      "application/vnd.jupyter.widget-view+json": {
       "model_id": "2ba70fc810a1432ea1ccbe4fefecd07b",
       "version_major": 2,
       "version_minor": 0
      },
      "text/plain": [
       "Downloading (…)ain/modeling_bert.py:   0%|          | 0.00/97.5k [00:00<?, ?B/s]"
      ]
     },
     "metadata": {},
     "output_type": "display_data"
    },
    {
     "name": "stderr",
     "output_type": "stream",
     "text": [
      "A new version of the following files was downloaded from https://huggingface.co/jinaai/jina-bert-implementation:\n",
      "- modeling_bert.py\n",
      ". Make sure to double-check they do not contain any added malicious code. To avoid downloading new versions of the code file, you can pin a revision.\n"
     ]
    },
    {
     "data": {
      "application/vnd.jupyter.widget-view+json": {
       "model_id": "71e59c2c29d145d4969e6425e011b966",
       "version_major": 2,
       "version_minor": 0
      },
      "text/plain": [
       "Downloading model.safetensors:   0%|          | 0.00/275M [00:00<?, ?B/s]"
      ]
     },
     "metadata": {},
     "output_type": "display_data"
    },
    {
     "data": {
      "application/vnd.jupyter.widget-view+json": {
       "model_id": "1d7ba1e6bbd5486485b19905b9265099",
       "version_major": 2,
       "version_minor": 0
      },
      "text/plain": [
       "Downloading (…)okenizer_config.json:   0%|          | 0.00/373 [00:00<?, ?B/s]"
      ]
     },
     "metadata": {},
     "output_type": "display_data"
    },
    {
     "data": {
      "application/vnd.jupyter.widget-view+json": {
       "model_id": "62ed3a231c8a48d38ca55643a65ebcf6",
       "version_major": 2,
       "version_minor": 0
      },
      "text/plain": [
       "Downloading (…)solve/main/vocab.txt:   0%|          | 0.00/232k [00:00<?, ?B/s]"
      ]
     },
     "metadata": {},
     "output_type": "display_data"
    },
    {
     "data": {
      "application/vnd.jupyter.widget-view+json": {
       "model_id": "25f82ff53beb4a0e83f0e2841bfe48eb",
       "version_major": 2,
       "version_minor": 0
      },
      "text/plain": [
       "Downloading (…)/main/tokenizer.json:   0%|          | 0.00/712k [00:00<?, ?B/s]"
      ]
     },
     "metadata": {},
     "output_type": "display_data"
    },
    {
     "data": {
      "application/vnd.jupyter.widget-view+json": {
       "model_id": "3978345087534583aba839e6bd96a0e0",
       "version_major": 2,
       "version_minor": 0
      },
      "text/plain": [
       "Downloading (…)cial_tokens_map.json:   0%|          | 0.00/125 [00:00<?, ?B/s]"
      ]
     },
     "metadata": {},
     "output_type": "display_data"
    }
   ],
   "source": [
    "model = AutoModel.from_pretrained(\"jinaai/jina-embeddings-v2-base-en\", trust_remote_code=True)"
   ]
  },
  {
   "cell_type": "code",
   "execution_count": 8,
   "id": "be87311c",
   "metadata": {
    "ExecuteTime": {
     "end_time": "2023-10-30T12:25:41.691301Z",
     "start_time": "2023-10-30T12:25:41.671884Z"
    }
   },
   "outputs": [
    {
     "data": {
      "text/plain": [
       "JinaBertModel(\n",
       "  (embeddings): JinaBertEmbeddings(\n",
       "    (word_embeddings): Embedding(30528, 768, padding_idx=0)\n",
       "    (token_type_embeddings): Embedding(2, 768)\n",
       "    (LayerNorm): LayerNorm((768,), eps=1e-12, elementwise_affine=True)\n",
       "    (dropout): Dropout(p=0.1, inplace=False)\n",
       "  )\n",
       "  (encoder): JinaBertEncoder(\n",
       "    (layer): ModuleList(\n",
       "      (0-11): 12 x JinaBertLayer(\n",
       "        (attention): JinaBertAttention(\n",
       "          (self): JinaBertSelfAttention(\n",
       "            (query): Linear(in_features=768, out_features=768, bias=True)\n",
       "            (key): Linear(in_features=768, out_features=768, bias=True)\n",
       "            (value): Linear(in_features=768, out_features=768, bias=True)\n",
       "            (dropout): Dropout(p=0.0, inplace=False)\n",
       "          )\n",
       "          (output): JinaBertSelfOutput(\n",
       "            (dense): Linear(in_features=768, out_features=768, bias=True)\n",
       "            (LayerNorm): LayerNorm((768,), eps=1e-12, elementwise_affine=True)\n",
       "            (dropout): Dropout(p=0.1, inplace=False)\n",
       "          )\n",
       "        )\n",
       "        (mlp): JinaBertGLUMLP(\n",
       "          (gated_layers): Linear(in_features=768, out_features=6144, bias=False)\n",
       "          (act): GELU(approximate='none')\n",
       "          (wo): Linear(in_features=3072, out_features=768, bias=True)\n",
       "          (dropout): Dropout(p=0.1, inplace=False)\n",
       "          (layernorm): LayerNorm((768,), eps=1e-12, elementwise_affine=True)\n",
       "        )\n",
       "      )\n",
       "    )\n",
       "  )\n",
       "  (pooler): JinaBertPooler(\n",
       "    (dense): Linear(in_features=768, out_features=768, bias=True)\n",
       "    (activation): Tanh()\n",
       "  )\n",
       ")"
      ]
     },
     "execution_count": 8,
     "metadata": {},
     "output_type": "execute_result"
    }
   ],
   "source": [
    "model"
   ]
  },
  {
   "cell_type": "code",
   "execution_count": 9,
   "id": "92378ceb",
   "metadata": {
    "ExecuteTime": {
     "end_time": "2023-10-30T12:26:40.764899Z",
     "start_time": "2023-10-30T12:26:40.472577Z"
    }
   },
   "outputs": [],
   "source": [
    "embeddings = model.encode([\"How is the weather today?\", \"What is the current weather like today?\"])"
   ]
  },
  {
   "cell_type": "code",
   "execution_count": 10,
   "id": "9935b11d",
   "metadata": {
    "ExecuteTime": {
     "end_time": "2023-10-30T12:26:46.049706Z",
     "start_time": "2023-10-30T12:26:46.034203Z"
    }
   },
   "outputs": [
    {
     "data": {
      "text/plain": [
       "array([[-0.34827083, -0.60091823,  0.6022358 , ..., -0.25232717,\n",
       "         0.23249897, -0.70264786],\n",
       "       [-0.11724895, -0.8989614 ,  0.4500915 , ..., -0.0284765 ,\n",
       "        -0.22871463, -0.42282876]], dtype=float32)"
      ]
     },
     "execution_count": 10,
     "metadata": {},
     "output_type": "execute_result"
    }
   ],
   "source": [
    "embeddings"
   ]
  },
  {
   "cell_type": "code",
   "execution_count": 11,
   "id": "c760dd63",
   "metadata": {
    "ExecuteTime": {
     "end_time": "2023-10-30T12:27:05.502760Z",
     "start_time": "2023-10-30T12:27:05.491801Z"
    }
   },
   "outputs": [
    {
     "data": {
      "text/plain": [
       "0.9341313"
      ]
     },
     "execution_count": 11,
     "metadata": {},
     "output_type": "execute_result"
    }
   ],
   "source": [
    "cos_sim(embeddings[0], embeddings[1])"
   ]
  },
  {
   "cell_type": "code",
   "execution_count": 12,
   "id": "9233db51",
   "metadata": {
    "ExecuteTime": {
     "end_time": "2023-10-30T12:29:18.261885Z",
     "start_time": "2023-10-30T12:29:18.256849Z"
    }
   },
   "outputs": [],
   "source": [
    "def compute_similarity(sentence1, sentence2):\n",
    "    embeddings = model.encode([sentence1, sentence2])\n",
    "    result = cos_sim(embeddings[0], embeddings[1])\n",
    "    return result\n",
    "# Example usage:\n",
    "# similarity = compute_similarity(\"How is the weather today?\", \"What is the current weather like today?\", model)\n"
   ]
  },
  {
   "cell_type": "code",
   "execution_count": 13,
   "id": "6d3d6aae",
   "metadata": {
    "ExecuteTime": {
     "end_time": "2023-10-30T12:29:54.267613Z",
     "start_time": "2023-10-30T12:29:54.096207Z"
    }
   },
   "outputs": [],
   "source": [
    "similarity = compute_similarity(\"I love apple.\", \"I like Banana.\")"
   ]
  },
  {
   "cell_type": "code",
   "execution_count": 14,
   "id": "f5020ba9",
   "metadata": {
    "ExecuteTime": {
     "end_time": "2023-10-30T12:29:57.216251Z",
     "start_time": "2023-10-30T12:29:57.209619Z"
    }
   },
   "outputs": [
    {
     "data": {
      "text/plain": [
       "0.77415395"
      ]
     },
     "execution_count": 14,
     "metadata": {},
     "output_type": "execute_result"
    }
   ],
   "source": [
    "similarity"
   ]
  },
  {
   "cell_type": "code",
   "execution_count": 15,
   "id": "cb62050e",
   "metadata": {
    "ExecuteTime": {
     "end_time": "2023-10-30T12:31:34.917240Z",
     "start_time": "2023-10-30T12:31:34.795440Z"
    }
   },
   "outputs": [],
   "source": [
    "similarity = compute_similarity(\"I like OpenAI.\", \"I like OpenAI.\")"
   ]
  },
  {
   "cell_type": "code",
   "execution_count": 16,
   "id": "f51071bc",
   "metadata": {
    "ExecuteTime": {
     "end_time": "2023-10-30T12:31:37.544817Z",
     "start_time": "2023-10-30T12:31:37.537919Z"
    }
   },
   "outputs": [
    {
     "data": {
      "text/plain": [
       "1.0"
      ]
     },
     "execution_count": 16,
     "metadata": {},
     "output_type": "execute_result"
    }
   ],
   "source": [
    "similarity"
   ]
  },
  {
   "cell_type": "code",
   "execution_count": 17,
   "id": "923678ac",
   "metadata": {
    "ExecuteTime": {
     "end_time": "2023-10-30T12:31:58.523252Z",
     "start_time": "2023-10-30T12:31:58.394500Z"
    }
   },
   "outputs": [],
   "source": [
    "similarity = compute_similarity(\"I like OpenAI.\", \"I don't like OpenAI.\")"
   ]
  },
  {
   "cell_type": "code",
   "execution_count": 18,
   "id": "d69ad057",
   "metadata": {
    "ExecuteTime": {
     "end_time": "2023-10-30T12:32:00.069996Z",
     "start_time": "2023-10-30T12:32:00.064078Z"
    }
   },
   "outputs": [
    {
     "data": {
      "text/plain": [
       "0.8971375"
      ]
     },
     "execution_count": 18,
     "metadata": {},
     "output_type": "execute_result"
    }
   ],
   "source": [
    "similarity"
   ]
  },
  {
   "cell_type": "code",
   "execution_count": null,
   "id": "147df01f",
   "metadata": {},
   "outputs": [],
   "source": []
  }
 ],
 "metadata": {
  "kernelspec": {
   "display_name": "Python 3 (ipykernel)",
   "language": "python",
   "name": "python3"
  },
  "language_info": {
   "codemirror_mode": {
    "name": "ipython",
    "version": 3
   },
   "file_extension": ".py",
   "mimetype": "text/x-python",
   "name": "python",
   "nbconvert_exporter": "python",
   "pygments_lexer": "ipython3",
   "version": "3.11.4"
  }
 },
 "nbformat": 4,
 "nbformat_minor": 5
}
